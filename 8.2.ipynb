{
 "cells": [
  {
   "cell_type": "code",
   "execution_count": 19,
   "metadata": {},
   "outputs": [
    {
     "name": "stdout",
     "output_type": "stream",
     "text": [
      "Logistic Regression Accuracy Score = 0.742543171115\n",
      "Accuracy Score after Cross Validation = 0.725590951749\n",
      "Accuracy score with Kfold Cross Validation : 0.727742424242\n"
     ]
    }
   ],
   "source": [
    "# 8.2\n",
    "import numpy as np\n",
    "import pandas as pd\n",
    "import statsmodels.api as sm\n",
    "import matplotlib.pyplot as plt\n",
    "from patsy import dmatrices\n",
    "from sklearn.linear_model import LogisticRegression\n",
    "from sklearn.cross_validation import train_test_split\n",
    "from sklearn import metrics\n",
    "from sklearn.cross_validation import cross_val_score\n",
    "\n",
    "dta = sm.datasets.fair.load_pandas().data\n",
    "affairss= []\n",
    "for val in dta.affairs:\n",
    "    if val > 0 :\n",
    "        val = 1\n",
    "        affairss.append(int(val))\n",
    "    else:\n",
    "        val = 0\n",
    "        affairss.append(int(val))\n",
    "dta[\"affair\"]=affairss\n",
    "\n",
    "y, X = dmatrices('affair ~ rate_marriage + age + yrs_married + children \\\n",
    "                 + religious + educ + C(occupation) + C(occupation_husb)', dta, return_type=\"dataframe\")\n",
    "X = X.rename(columns = {'C(occupation)[T.2.0]':'occ_2',\n",
    "'C(occupation)[T.3.0]':'occ_3',\n",
    "'C(occupation)[T.4.0]':'occ_4',\n",
    "'C(occupation)[T.5.0]':'occ_5',\n",
    "'C(occupation)[T.6.0]':'occ_6',\n",
    "'C(occupation_husb)[T.2.0]':'occ_husb_2',\n",
    "'C(occupation_husb)[T.3.0]':'occ_husb_3',\n",
    "'C(occupation_husb)[T.4.0]':'occ_husb_4',\n",
    "'C(occupation_husb)[T.5.0]':'occ_husb_5',\n",
    "'C(occupation_husb)[T.6.0]':'occ_husb_6'})\n",
    "y = np.ravel(y)\n",
    "\n",
    "# Train_set and Test set data split\n",
    "X_train,X_test,y_train,y_test=train_test_split(X,y,train_size=4/5,random_state=0)\n",
    "\n",
    "# Logistic Regression \n",
    "classifier=LogisticRegression()\n",
    "classifier.fit(X_train,y_train)\n",
    "\n",
    "y_pred = classifier.predict(X_test)\n",
    "\n",
    "from sklearn.metrics import confusion_matrix,accuracy_score\n",
    "cm=confusion_matrix(y_test,y_pred)\n",
    "accuracy_sc=accuracy_score(y_test,y_pred)\n",
    "print(\"Logistic Regression Accuracy Score = \"+ str(accuracy_sc))\n",
    "\n",
    "# Cross validation from SKlearn\n",
    "cv = cross_val_score(estimator = classifier, X=X,y=y,scoring='accuracy',cv=50)\n",
    "print(\"Accuracy Score after Cross Validation = \"+ str(cv.mean()))\n",
    "\n",
    "# K Fold Cross validation\n",
    "from sklearn.cross_validation import KFold\n",
    "cv=KFold(n=len(X),n_folds=600,random_state=0)\n",
    "x_fold=dta.iloc[:,0:8]\n",
    "y_fold=dta.iloc[:,9]\n",
    "\n",
    "accuracy=[]\n",
    "\n",
    "for train_fold,valid_fold in cv:\n",
    "    trainx=x_fold.loc[train_fold]\n",
    "    validx=x_fold.loc[valid_fold]\n",
    "    trainy=y_fold.loc[train_fold]\n",
    "    validy=y_fold.loc[valid_fold]\n",
    "    model=classifier.fit(X=trainx,y=trainy)\n",
    "    valid_acc= model.score(X=validx,y=validy)\n",
    "    accuracy.append(valid_acc)\n",
    "print(\"Accuracy score with Kfold Cross Validation : \"+ str(sum(accuracy)/len(accuracy)))\n"
   ]
  },
  {
   "cell_type": "code",
   "execution_count": null,
   "metadata": {},
   "outputs": [],
   "source": []
  },
  {
   "cell_type": "code",
   "execution_count": null,
   "metadata": {},
   "outputs": [],
   "source": []
  }
 ],
 "metadata": {
  "kernelspec": {
   "display_name": "Python 3",
   "language": "python",
   "name": "python3"
  },
  "language_info": {
   "codemirror_mode": {
    "name": "ipython",
    "version": 3
   },
   "file_extension": ".py",
   "mimetype": "text/x-python",
   "name": "python",
   "nbconvert_exporter": "python",
   "pygments_lexer": "ipython3",
   "version": "3.6.5"
  }
 },
 "nbformat": 4,
 "nbformat_minor": 2
}
